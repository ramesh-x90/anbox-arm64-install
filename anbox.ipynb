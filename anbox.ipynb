{
  "nbformat": 4,
  "nbformat_minor": 0,
  "metadata": {
    "colab": {
      "name": "anbox.ipynb",
      "provenance": [],
      "collapsed_sections": []
    },
    "kernelspec": {
      "name": "python3",
      "display_name": "Python 3"
    },
    "language_info": {
      "name": "python"
    }
  },
  "cells": [
    {
      "cell_type": "code",
      "execution_count": null,
      "metadata": {
        "id": "fx3HOVyDJW-y"
      },
      "outputs": [],
      "source": [
        "!lsb_release -a"
      ]
    },
    {
      "cell_type": "code",
      "source": [
        "!git clone https://github.com/anbox/anbox.git --recurse-submodules"
      ],
      "metadata": {
        "id": "cNtHSah2Jjry"
      },
      "execution_count": null,
      "outputs": []
    },
    {
      "cell_type": "code",
      "source": [
        "!git clone https://github.com/anbox/anbox-modules.git"
      ],
      "metadata": {
        "id": "XDOeHmqMhkGL"
      },
      "execution_count": null,
      "outputs": []
    },
    {
      "cell_type": "code",
      "source": [
        "!./INSTALL.sh\n",
        "!modprobe ashmem_linux &  modprobe binder_linux"
      ],
      "metadata": {
        "id": "OUqjIWewB8U_"
      },
      "execution_count": null,
      "outputs": []
    },
    {
      "cell_type": "code",
      "source": [
        "!sudo apt install build-essential cmake cmake-data debhelper dbus google-mock \\\n",
        "    libboost-dev libboost-filesystem-dev libboost-log-dev libboost-iostreams-dev \\\n",
        "    libboost-program-options-dev libboost-system-dev libboost-test-dev \\\n",
        "    libboost-thread-dev libcap-dev libexpat1-dev libsystemd-dev libegl1-mesa-dev \\\n",
        "    libgles2-mesa-dev libglm-dev libgtest-dev liblxc1 \\\n",
        "    libproperties-cpp-dev libprotobuf-dev libsdl2-dev libsdl2-image-dev lxc-dev \\\n",
        "    pkg-config protobuf-compiler python3-minimal doxygen libdw-dev libbfd-dev libdwarf-dev cmake make -y"
      ],
      "metadata": {
        "id": "97wROfXMKDz-"
      },
      "execution_count": null,
      "outputs": []
    },
    {
      "cell_type": "markdown",
      "source": [
        "cmake update"
      ],
      "metadata": {
        "id": "uPfEP7pqybZ9"
      }
    },
    {
      "cell_type": "code",
      "source": [
        "!sudo apt remove --purge --auto-remove cmake\n",
        "!sudo apt purge --auto-remove cmake\n",
        "!sudo apt update && \\\n",
        "sudo apt install -y software-properties-common lsb-release && \\\n",
        "sudo apt clean all\n",
        "!wget -O - https://apt.kitware.com/keys/kitware-archive-latest.asc 2>/dev/null | gpg --dearmor - | sudo tee /etc/apt/trusted.gpg.d/kitware.gpg >/dev/null\n",
        "!sudo apt-add-repository \"deb https://apt.kitware.com/ubuntu/ $(lsb_release -cs) main\"\n",
        "!sudo apt update && \\\n",
        "  sudo apt install kitware-archive-keyring && \\\n",
        "  sudo rm /etc/apt/trusted.gpg.d/kitware.gpg\n",
        "\n",
        "!sudo apt-key adv --keyserver keyserver.ubuntu.com --recv-keys 6AF7F09730B3F0A4\n",
        "\n",
        "!sudo apt update\n",
        "!sudo apt install cmake\n"
      ],
      "metadata": {
        "id": "QTTcQBP1yeTP"
      },
      "execution_count": null,
      "outputs": []
    },
    {
      "cell_type": "code",
      "source": [
        "%cd anbox"
      ],
      "metadata": {
        "id": "EYTk6gT_JuJF"
      },
      "execution_count": null,
      "outputs": []
    },
    {
      "cell_type": "code",
      "source": [
        "!ls"
      ],
      "metadata": {
        "id": "F0YNlEksJzZ3"
      },
      "execution_count": null,
      "outputs": []
    },
    {
      "cell_type": "code",
      "source": [
        "!mkdir build"
      ],
      "metadata": {
        "id": "ePAT11FMJ5uy"
      },
      "execution_count": null,
      "outputs": []
    },
    {
      "cell_type": "code",
      "source": [
        "%cd build"
      ],
      "metadata": {
        "id": "HAijbdg6J8p8"
      },
      "execution_count": null,
      "outputs": []
    },
    {
      "cell_type": "code",
      "source": [
        "!cmake .."
      ],
      "metadata": {
        "id": "OdIi0I0pKWWd"
      },
      "execution_count": null,
      "outputs": []
    },
    {
      "cell_type": "code",
      "source": [
        "#comment \"all: tests/all\" in anbox/build/CMakeFiles/Makefile2"
      ],
      "metadata": {
        "id": "wtR2IjZY0kJ1"
      },
      "execution_count": null,
      "outputs": []
    },
    {
      "cell_type": "code",
      "source": [
        "!make"
      ],
      "metadata": {
        "id": "lG63AE8YLrb_"
      },
      "execution_count": null,
      "outputs": []
    },
    {
      "cell_type": "code",
      "source": [
        "!sudo make install "
      ],
      "metadata": {
        "id": "TL0-jgt4Pe3G"
      },
      "execution_count": null,
      "outputs": []
    },
    {
      "cell_type": "markdown",
      "source": [
        "INSTALL DOCKER"
      ],
      "metadata": {
        "id": "3h2ScTr-iVXe"
      }
    },
    {
      "cell_type": "code",
      "source": [
        "!sudo apt-get install \\\n",
        "    ca-certificates \\\n",
        "    curl \\\n",
        "    gnupg \\\n",
        "    lsb-release\n",
        "\n",
        " !curl -fsSL https://get.docker.com -o get-docker.sh\n",
        " !sudo sh get-docker.sh"
      ],
      "metadata": {
        "id": "nH2KVbasQZwG"
      },
      "execution_count": null,
      "outputs": []
    },
    {
      "cell_type": "markdown",
      "source": [
        "RDP into server"
      ],
      "metadata": {
        "id": "k5SJeHppzWJU"
      }
    },
    {
      "cell_type": "code",
      "source": [
        "!apt install ubuntu-desktop -y && apt install xrdp -y && sudo systemctl status xrdp"
      ],
      "metadata": {
        "id": "RQXAEY-nrbYm"
      },
      "execution_count": null,
      "outputs": []
    },
    {
      "cell_type": "markdown",
      "source": [
        "load kernel modules"
      ],
      "metadata": {
        "id": "dSp1Z7G3HTrb"
      }
    },
    {
      "cell_type": "code",
      "source": [
        "!sudo modprobe binder_linux && sudo ashmem_linux binder_linu\n",
        "\n",
        "#mount dir\n",
        "\n",
        "!sudo mkdir /dev/binder && sudo mkdir /dev/binderfs\n",
        "!sudo mount -t binder binder /dev/binder \n",
        "!sudo mount -t binder binder /dev/binderfs "
      ],
      "metadata": {
        "id": "sra_rjWhHW59"
      },
      "execution_count": null,
      "outputs": []
    },
    {
      "cell_type": "code",
      "source": [
        ""
      ],
      "metadata": {
        "id": "nuYHchHeHS-b"
      },
      "execution_count": null,
      "outputs": []
    }
  ]
}